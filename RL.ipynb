{
  "nbformat": 4,
  "nbformat_minor": 0,
  "metadata": {
    "colab": {
      "name": "Welcome To Colaboratory",
      "provenance": [],
      "collapsed_sections": []
    },
    "kernelspec": {
      "display_name": "Python 3",
      "name": "python3"
    },
    "accelerator": "GPU"
  },
  "cells": [
    {
      "cell_type": "code",
      "metadata": {
        "id": "UfD6wFA6p1dg"
      },
      "source": [
        "!nvidia-smi\n",
        "!apt update\n",
        "!apt install python-opengl xvfb -y\n",
        "!pip install gym[box2d]==0.18.3 pyvirtualdisplay tqdm numpy==1.19.5 torch==1.8.1"
      ],
      "execution_count": null,
      "outputs": []
    },
    {
      "cell_type": "code",
      "metadata": {
        "id": "_dahJ1v5p1nM",
        "outputId": "593896fe-49a6-4863-9163-c51b1dd8fd3a",
        "colab": {
          "base_uri": "https://localhost:8080/"
        }
      },
      "source": [
        "# !nvidia-smi\n",
        "!python3 main.py"
      ],
      "execution_count": 67,
      "outputs": [
        {
          "output_type": "stream",
          "text": [
            "  File \"main.py\", line 81\n",
            "    %matplotlib inline\n",
            "    ^\n",
            "SyntaxError: invalid syntax\n"
          ],
          "name": "stdout"
        }
      ]
    },
    {
      "cell_type": "code",
      "metadata": {
        "id": "Y0btAvSHRok_"
      },
      "source": [
        "import torch\n",
        "import random\n",
        "import numpy as np\n",
        "\n",
        "def fix(env, seed):\n",
        "    env.seed(seed)\n",
        "    env.action_space.seed(seed)\n",
        "    torch.manual_seed(seed)\n",
        "    torch.cuda.manual_seed(seed)\n",
        "    torch.cuda.manual_seed_all(seed)\n",
        "    np.random.seed(seed)\n",
        "    random.seed(seed)\n",
        "    # torch.set_deterministic(True)\n",
        "    torch.backends.cudnn.benchmark = False\n",
        "    torch.backends.cudnn.deterministic = True"
      ],
      "execution_count": 72,
      "outputs": []
    },
    {
      "cell_type": "code",
      "metadata": {
        "id": "sOgqjN69Roa5"
      },
      "source": [
        "import torch.nn as nn\n",
        "\n",
        "config = {\n",
        "    \"common_optim_hparas\": {\n",
        "        \"lr\": 0.0001,  # base learning rate\n",
        "        \"weight_decay\": 1e-5,  # optional while using Adam\n",
        "        # \"momentum\": 0.5,  only needs when using SGD\n",
        "    },\n",
        "    \"actor_optimizer\": \"Adam\",\n",
        "    \"actor_optim_hparas\": {\n",
        "        \"lr\": 0.0001,  # needs to be modified, can be different with base learning rate\n",
        "        \"weight_decay\": 1e-5,  # optional while using Adam\n",
        "        # \"momentum\": 0.5,  only needs when using SGD\n",
        "    },\n",
        "    \"critic_optimizer\": \"Adam\",\n",
        "    \"critic_optim_hparas\":{\n",
        "        \"lr\": 0.0001,  # needs to be modified, can be different with base learning rate\n",
        "        \"weight_decay\": 1e-5,  # optional while using Adam\n",
        "        # \"momentum\": 0.5,  only needs when using SGD\n",
        "    },\n",
        "    \"common_network\": nn.Sequential(\n",
        "        # implement common network model\n",
        "        # the last layer has the same dimension with actor network and critic network\n",
        "        # the first layer dimension can be seen by calling env.observation_space\n",
        "        nn.Linear(8, 16), \n",
        "        nn.Linear(16, 16), \n",
        "        nn.Linear(16, 32)\n",
        "        \n",
        "    ),\n",
        "    \"actor_network\": nn.Sequential(\n",
        "        # implement actor network model\n",
        "        # actor is a classifier network\n",
        "        # the last layer dimension can be seen by calling env.action_space\n",
        "        nn.Linear(32, 16),\n",
        "        nn.Linear(16, 4),\n",
        "        nn.Softmax(dim = -1)\n",
        "    ),\n",
        "    \"critic_network\": nn.Sequential(\n",
        "        # implement critic network model\n",
        "        # critic is a regression network\n",
        "        nn.Linear(32, 16),\n",
        "        nn.ReLU(),\n",
        "        nn.Linear(16, 4),\n",
        "        nn.ReLU(),\n",
        "        nn.Linear(4, 1)\n",
        "    ),\n",
        "    \"random_seed\": 801,\n",
        "    \"batch_num\": 10,  # times for actor, critic to renew\n",
        "    \"episode_per_batch\": 5,  # the bigger the num is, the more training data can collect\n",
        "    \"test_episode_num\": 5,  # times for testing the model\n",
        "    \"save\": False,  # determine whether to save current model during trainig\n",
        "    \"save_per_batch\": 10,  # save model while after num\n",
        "    \"save_path\": \"none\",  # where to save\n",
        "    \"load\": False,  # load model from previous progress\n",
        "    \"load_path\": \"none\",  # load path\n",
        "}"
      ],
      "execution_count": 73,
      "outputs": []
    },
    {
      "cell_type": "code",
      "metadata": {
        "id": "9oZz05vtRoVj"
      },
      "source": [
        "import torch.optim as optim\n",
        "from torch.distributions import Categorical\n",
        "\n",
        "class RLbase(nn.Module):\n",
        "    def __init__(self) -> None:\n",
        "        super(RLbase, self).__init__()\n",
        "        self.base_network = config[\"common_network\"]\n",
        "        self.actor_network = config[\"actor_network\"]\n",
        "        self.critic_network = config[\"critic_network\"]\n",
        "\n",
        "    def get_device(self):\n",
        "        return \"cuda\" if torch.cuda.is_available() else \"cpu\"\n",
        "    \n",
        "    def forward(self, state):\n",
        "        x = self.base_network(state)\n",
        "        return self.actor_network(x), self.critic_network(x)\n",
        "\n",
        "    def get_actor_parameters(self):\n",
        "        return [\n",
        "            {\"params\": self.base_network.parameters()},\n",
        "            {\"params\": self.actor_network.parameters(), **config[\"actor_optim_hparas\"]}\n",
        "        ]\n",
        "\n",
        "    def get_critic_parameters(self):\n",
        "        return [\n",
        "            {\"params\": self.base_network.parameters()},\n",
        "            {\"params\": self.critic_network.parameters(), **config[\"critic_optim_hparas\"]}\n",
        "        ]\n",
        "\n",
        "    def save(self, batch, PATH):\n",
        "        torch.save({\n",
        "            \"batch\": batch\n",
        "        }, PATH)\n",
        "    \n",
        "    def load(self, PATH):\n",
        "        checkpoint = torch.load(PATH)\n",
        "        return checkpoint[\"batch\"]\n",
        "\n",
        "class Actor():\n",
        "    def __init__(self, base) -> None:\n",
        "        self.network = base\n",
        "        self.optimizer = getattr(optim, config[\"actor_optimizer\"])(base.get_actor_parameters(), **config[\"common_optim_hparas\"])\n",
        "        \n",
        "    def forward(self, state):\n",
        "        x, _ = self.network(torch.FloatTensor(state).to(self.network.get_device()))\n",
        "        return x\n",
        "\n",
        "    def sample(self, state):  # may add randomness to sampling\n",
        "        action_prop = self.forward(state)\n",
        "        action_dist = Categorical(action_prop)\n",
        "        action = action_dist.sample()\n",
        "        return action.item(), action_dist.log_prob(action)\n",
        "\n",
        "    def learn(self, log_probs, benefit_degrees):\n",
        "        loss = (-log_probs * benefit_degrees).sum().requires_grad_()  # may use other definition, unsure about whether to add a \"-\" before calculating\n",
        "        self.optimizer.zero_grad()\n",
        "        loss.backward(retain_graph=True)\n",
        "        self.optimizer.step()\n",
        "\n",
        "    def save(self, PATH):\n",
        "        torch.save({\n",
        "            \"actor_network\": self.network.state_dict(),\n",
        "            \"actor_optimizer\": self.optimizer.state_dict()\n",
        "        }, PATH)\n",
        "\n",
        "    def load(self, PATH):\n",
        "        checkpoint = torch.load(PATH)\n",
        "        self.network.load_state_dict(checkpoint[\"actor_network\"])\n",
        "        self.optimizer.load_state_dict(checkpoint[\"actor_optimizer\"])\n",
        "\n",
        "class Critic():\n",
        "    def __init__(self, base) -> None:\n",
        "        self.network = base\n",
        "        self.optimizer = getattr(optim, config[\"critic_optimizer\"])(base.get_critic_parameters(), **config[\"common_optim_hparas\"])\n",
        "\n",
        "    def forward(self, state):\n",
        "        _, x = self.network(torch.FloatTensor(state).to(self.network.get_device()))\n",
        "        return x\n",
        "\n",
        "    def learn(self, benefit_degrees):\n",
        "        loss = (benefit_degrees * benefit_degrees).sum().requires_grad_()\n",
        "        self.optimizer.zero_grad()\n",
        "        loss.backward()\n",
        "        self.optimizer.step()\n",
        "\n",
        "    def save(self, PATH):\n",
        "        torch.save({\n",
        "            \"critic_network\": self.network.state_dict(),\n",
        "            \"critic_optimizer\": self.optimizer.state_dict()\n",
        "        }, PATH)\n",
        "\n",
        "    def load(self, PATH):\n",
        "        checkpoint = torch.load(PATH)\n",
        "        self.network.load_state_dict(checkpoint[\"critic_network\"])\n",
        "        self.optimizer.load_state_dict(checkpoint[\"critic_optimizer\"])"
      ],
      "execution_count": 78,
      "outputs": []
    },
    {
      "cell_type": "code",
      "metadata": {
        "id": "R_Rz7_AFRoE8",
        "outputId": "6cf7d7a3-ad2f-48ae-df68-c787375459e2",
        "colab": {
          "base_uri": "https://localhost:8080/",
          "height": 975
        }
      },
      "source": [
        "import gym\n",
        "from tqdm import tqdm\n",
        "import numpy as np\n",
        "%matplotlib inline\n",
        "import matplotlib.pyplot as plt\n",
        "\n",
        "class Main():\n",
        "    def __init__(self) -> None:\n",
        "        self.env = gym.make(\"LunarLander-v2\")\n",
        "        self.base = RLbase()\n",
        "        self.actor = Actor(self.base)\n",
        "        self.critic = Critic(self.base)\n",
        "        self.device = self.base.get_device()\n",
        "\n",
        "    def __set_environment(self):\n",
        "        print(f'Random seed: {config[\"random_seed\"]}')\n",
        "        fix(env=self.env, seed=config[\"random_seed\"])\n",
        "        self.env.reset()\n",
        "        print(f\"Device: {self.device}\")\n",
        "\n",
        "    def __training(self):\n",
        "        start_batch = 0\n",
        "        if config[\"load\"]:\n",
        "            start_batch = self.base.load(config[\"load_path\"])\n",
        "            self.actor.load(config[\"load_path\"])\n",
        "            self.critic.load(config[\"load_path\"])\n",
        "\n",
        "        self.base.to(self.device)\n",
        "        # implement Reinforcement Learning training algorithm\n",
        "        self.actor.network.train()\n",
        "        self.critic.network.train()\n",
        "\n",
        "        avg_total_rewards, avg_final_rewards = [], []\n",
        "        progress_bar = tqdm(range(start_batch, config[\"batch_num\"]))\n",
        "        for batch in progress_bar:\n",
        "            log_probs, benefit_degrees = [], []  # log_probs stores e_n, benefit_degrees stores A_n\n",
        "            total_rewards, final_rewards = [], []  # total_rewards stores the total reward of the whole sequence, final_rewards stores the reward while finishing an episode(check to see if landing success)\n",
        "            # collecting training data\n",
        "            for episode in range(config[\"episode_per_batch\"]):\n",
        "                # state = torch.tensor(self.env.reset()).to(self.device)\n",
        "                state = self.env.reset()\n",
        "                total_reward, total_step = 0, 0\n",
        "                while True:\n",
        "                    action, log_prob = self.actor.sample(state)\n",
        "                    next_state, reward, done, _ = self.env.step(action)\n",
        "\n",
        "                    bd = reward + self.critic.forward(next_state).detach().cpu() - self.critic.forward(state).detach().cpu()  # implements Advantage actor-critic\n",
        "                    benefit_degrees.append(bd)\n",
        "                    log_probs.append(log_prob)\n",
        "                    state = next_state\n",
        "                    total_reward += reward\n",
        "                    total_step += 1\n",
        "                    if done:\n",
        "                        final_rewards.append(reward)\n",
        "                        total_rewards.append(total_reward)\n",
        "                        break\n",
        "            print(f\"\\nbenefit degrees looks like \", np.shape(benefit_degrees))  \n",
        "            print(f\"cross log_probs looks like \", np.shape(log_probs))\n",
        "\n",
        "            # record training process\n",
        "            avg_total_rewards.append(sum(total_rewards) / len(total_rewards))\n",
        "            avg_final_rewards.append(sum(final_rewards) / len(final_rewards))\n",
        "            progress_bar.set_description(f\"Total: {avg_total_rewards[-1]: 4.1f}, Final: {avg_final_rewards[-1]: 4.1f}\")\n",
        "            # renew actor and critic\n",
        "            log_probs = torch.stack(log_probs).to(self.device)\n",
        "            benefit_degrees = torch.stack(benefit_degrees).to(self.device)\n",
        "            benefit_degrees = (benefit_degrees - benefit_degrees.mean(dim=0, keepdim=True)) / (benefit_degrees.std(dim=0, keepdim=True) + 1e-9)  # standarize benefit degrees\n",
        "            self.actor.learn(log_probs, benefit_degrees)\n",
        "            self.critic.learn(benefit_degrees)\n",
        "            # save model if needed\n",
        "            if config[\"save\"] and batch % config[\"save_per_batch\"] == 0:\n",
        "                self.base.save(batch, config[\"save_path\"])\n",
        "                self.actor.save(config[\"save_path\"])\n",
        "                self.critic.save(config[\"save_path\"])\n",
        "        return avg_total_rewards, avg_final_rewards\n",
        "\n",
        "    def __get_trainig_result(self, avg_total_rewards, avg_final_rewards):\n",
        "        plt.figure()\n",
        "        plt.plot(avg_total_rewards, label=\"avg total rewards\")\n",
        "        plt.plot(avg_final_rewards, label=\"avg final rewards\")\n",
        "        plt.legend()\n",
        "        plt.xlabel(\"batch num\")\n",
        "        plt.ylabel(\"reward\")\n",
        "        plt.title(\"Model training result\")\n",
        "        plt.show()\n",
        "\n",
        "    def __test_model(self):\n",
        "        fix(self.env, config[\"random_seed\"])\n",
        "        self.actor.network.eval()\n",
        "        # self.critic.network.eval()\n",
        "        avg_reward = 0\n",
        "        action_distribution = {}\n",
        "        for test_episode in range(config[\"test_episode_num\"]):\n",
        "            action_num, total_reward = 0, 0\n",
        "            state = self.env.reset()\n",
        "            done = False\n",
        "            while not done:\n",
        "                action, _ = self.actor.sample(state)\n",
        "                if action not in action_distribution.keys():\n",
        "                    action_distribution[action] = 1\n",
        "                else:\n",
        "                    action_distribution[action] += 1\n",
        "                \n",
        "                state, reward, done, _ = self.env.step(action)\n",
        "                total_reward += reward\n",
        "                action_num += 1\n",
        "            print(f\"Total reward: {total_reward: 4.1f}, Num of action: {action_num}\")\n",
        "            avg_reward += total_reward\n",
        "\n",
        "        avg_reward = avg_reward / config[\"test_episode_num\"]\n",
        "        print(f\"Model average reward when testing for {config['test_episode_num']} times is: %.2f\"%avg_reward)\n",
        "        print(\"Action distribution: \", action_distribution)\n",
        "\n",
        "    def main(self):\n",
        "        # TODO: Finish main function\n",
        "        self.__set_environment()\n",
        "        avg_total_rewards, avg_final_rewards = self.__training()\n",
        "        self.__get_trainig_result(avg_total_rewards, avg_final_rewards)\n",
        "        self.__test_model()\n",
        "\n",
        "\n",
        "if __name__ == \"__main__\":\n",
        "    Main().main()"
      ],
      "execution_count": 81,
      "outputs": [
        {
          "output_type": "stream",
          "text": [
            "\r  0%|          | 0/10 [00:00<?, ?it/s]"
          ],
          "name": "stderr"
        },
        {
          "output_type": "stream",
          "text": [
            "Random seed: 801\n",
            "Device: cuda\n"
          ],
          "name": "stdout"
        },
        {
          "output_type": "stream",
          "text": [
            "\rTotal: -282.2, Final: -100.0:   0%|          | 0/10 [00:01<?, ?it/s]"
          ],
          "name": "stderr"
        },
        {
          "output_type": "stream",
          "text": [
            "\n",
            "benefit degrees looks like  (469,)\n",
            "cross log_probs looks like  (469,)\n"
          ],
          "name": "stdout"
        },
        {
          "output_type": "stream",
          "text": [
            "Total: -142.6, Final: -100.0:  10%|█         | 1/10 [00:03<00:18,  2.07s/it]"
          ],
          "name": "stderr"
        },
        {
          "output_type": "stream",
          "text": [
            "\n",
            "benefit degrees looks like  (396,)\n",
            "cross log_probs looks like  (396,)\n"
          ],
          "name": "stdout"
        },
        {
          "output_type": "stream",
          "text": [
            "Total: -106.9, Final: -100.0:  20%|██        | 2/10 [00:05<00:15,  1.97s/it]"
          ],
          "name": "stderr"
        },
        {
          "output_type": "stream",
          "text": [
            "\n",
            "benefit degrees looks like  (493,)\n",
            "cross log_probs looks like  (493,)\n"
          ],
          "name": "stdout"
        },
        {
          "output_type": "stream",
          "text": [
            "Total: -182.0, Final: -100.0:  30%|███       | 3/10 [00:07<00:14,  2.05s/it]"
          ],
          "name": "stderr"
        },
        {
          "output_type": "stream",
          "text": [
            "\n",
            "benefit degrees looks like  (513,)\n",
            "cross log_probs looks like  (513,)\n"
          ],
          "name": "stdout"
        },
        {
          "output_type": "stream",
          "text": [
            "Total: -198.7, Final: -100.0:  40%|████      | 4/10 [00:10<00:12,  2.12s/it]"
          ],
          "name": "stderr"
        },
        {
          "output_type": "stream",
          "text": [
            "\n",
            "benefit degrees looks like  (575,)\n",
            "cross log_probs looks like  (575,)\n"
          ],
          "name": "stdout"
        },
        {
          "output_type": "stream",
          "text": [
            "Total: -187.6, Final: -100.0:  50%|█████     | 5/10 [00:12<00:11,  2.25s/it]"
          ],
          "name": "stderr"
        },
        {
          "output_type": "stream",
          "text": [
            "\n",
            "benefit degrees looks like  (513,)\n",
            "cross log_probs looks like  (513,)\n"
          ],
          "name": "stdout"
        },
        {
          "output_type": "stream",
          "text": [
            "Total: -206.6, Final: -100.0:  60%|██████    | 6/10 [00:14<00:09,  2.27s/it]"
          ],
          "name": "stderr"
        },
        {
          "output_type": "stream",
          "text": [
            "\n",
            "benefit degrees looks like  (468,)\n",
            "cross log_probs looks like  (468,)\n"
          ],
          "name": "stdout"
        },
        {
          "output_type": "stream",
          "text": [
            "Total: -171.6, Final: -100.0:  70%|███████   | 7/10 [00:17<00:06,  2.22s/it]"
          ],
          "name": "stderr"
        },
        {
          "output_type": "stream",
          "text": [
            "\n",
            "benefit degrees looks like  (473,)\n",
            "cross log_probs looks like  (473,)\n"
          ],
          "name": "stdout"
        },
        {
          "output_type": "stream",
          "text": [
            "Total: -173.4, Final: -100.0:  80%|████████  | 8/10 [00:18<00:04,  2.18s/it]"
          ],
          "name": "stderr"
        },
        {
          "output_type": "stream",
          "text": [
            "\n",
            "benefit degrees looks like  (420,)\n",
            "cross log_probs looks like  (420,)\n"
          ],
          "name": "stdout"
        },
        {
          "output_type": "stream",
          "text": [
            "Total: -207.3, Final: -100.0:  90%|█████████ | 9/10 [00:20<00:02,  2.09s/it]"
          ],
          "name": "stderr"
        },
        {
          "output_type": "stream",
          "text": [
            "\n",
            "benefit degrees looks like  (426,)\n",
            "cross log_probs looks like  (426,)\n"
          ],
          "name": "stdout"
        },
        {
          "output_type": "stream",
          "text": [
            "Total: -207.3, Final: -100.0: 100%|██████████| 10/10 [00:21<00:00,  2.12s/it]\n"
          ],
          "name": "stderr"
        },
        {
          "output_type": "display_data",
          "data": {
            "image/png": "[encoded data removed]",
            "text/plain": [
              "<Figure size 432x288 with 1 Axes>"
            ]
          },
          "metadata": {
            "tags": [],
            "needs_background": "light"
          }
        },
        {
          "output_type": "stream",
          "text": [
            "Total reward:  68.0, Num of action: 1000\n",
            "Total reward: -62.7, Num of action: 114\n",
            "Total reward: -203.3, Num of action: 98\n",
            "Total reward: -130.1, Num of action: 107\n",
            "Total reward: -82.6, Num of action: 80\n",
            "Model average reward when testing for 5 times is: -82.14\n",
            "Action distribution:  {3: 339, 2: 369, 0: 350, 1: 341}\n"
          ],
          "name": "stdout"
        }
      ]
    }
  ]
}